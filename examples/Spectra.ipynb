{
 "cells": [
  {
   "cell_type": "markdown",
   "metadata": {
    "deletable": true,
    "editable": true,
    "run_control": {
     "frozen": false,
     "read_only": false
    }
   },
   "source": [
    "# ChemSpiPy: Spectra\n",
    "\n",
    "Here are some examples of using ChemSpiPy to retrieve spectra from ChemSpider.\n",
    "\n",
    "First we'll start by setting up our ChemSpider session in the usual way:"
   ]
  },
  {
   "cell_type": "code",
   "execution_count": 1,
   "metadata": {
    "collapsed": false,
    "deletable": true,
    "editable": true,
    "run_control": {
     "frozen": false,
     "read_only": false
    }
   },
   "outputs": [],
   "source": [
    "import os\n",
    "from chemspipy import ChemSpider"
   ]
  },
  {
   "cell_type": "code",
   "execution_count": 2,
   "metadata": {
    "collapsed": false,
    "deletable": true,
    "editable": true,
    "run_control": {
     "frozen": false,
     "read_only": false
    }
   },
   "outputs": [],
   "source": [
    "# Security token is retrieved from environment variables\n",
    "CHEMSPIDER_SECURITY_TOKEN = os.environ['CHEMSPIDER_SECURITY_TOKEN']\n",
    "cs = ChemSpider(security_token=CHEMSPIDER_SECURITY_TOKEN)"
   ]
  },
  {
   "cell_type": "markdown",
   "metadata": {
    "deletable": true,
    "editable": true,
    "run_control": {
     "frozen": false,
     "read_only": false
    }
   },
   "source": [
    "## Retrieving Spectra\n",
    "\n",
    "Get the spectra for a compound:"
   ]
  },
  {
   "cell_type": "code",
   "execution_count": 3,
   "metadata": {
    "collapsed": false,
    "deletable": true,
    "editable": true,
    "run_control": {
     "frozen": false,
     "read_only": false
    }
   },
   "outputs": [
    {
     "data": {
      "image/png": "[encoded data removed]",
      "text/plain": [
       "Compound(2157)"
      ]
     },
     "execution_count": 3,
     "metadata": {},
     "output_type": "execute_result"
    }
   ],
   "source": [
    "compound = cs.get_compound(2157)\n",
    "compound"
   ]
  },
  {
   "cell_type": "code",
   "execution_count": 4,
   "metadata": {
    "collapsed": false,
    "deletable": true,
    "editable": true,
    "run_control": {
     "frozen": false,
     "read_only": false
    }
   },
   "outputs": [
    {
     "name": "stdout",
     "output_type": "stream",
     "text": [
      "2157\n",
      "CC(=O)Oc1ccccc1C(=O)O\n",
      "[Spectrum(2303), Spectrum(2304), Spectrum(3558), Spectrum(6639), Spectrum(6640), Spectrum(6641), Spectrum(6642), Spectrum(6643), Spectrum(6644), Spectrum(6645), Spectrum(8553), Spectrum(8554)]\n"
     ]
    }
   ],
   "source": [
    "print(compound.csid)\n",
    "print(compound.smiles)\n",
    "print(compound.spectra)"
   ]
  },
  {
   "cell_type": "markdown",
   "metadata": {
    "deletable": true,
    "editable": true,
    "run_control": {
     "frozen": false,
     "read_only": false
    }
   },
   "source": [
    "Or get the spectra for all the results of a search:"
   ]
  },
  {
   "cell_type": "code",
   "execution_count": 5,
   "metadata": {
    "collapsed": false,
    "deletable": true,
    "editable": true,
    "run_control": {
     "frozen": false,
     "read_only": false
    }
   },
   "outputs": [
    {
     "name": "stdout",
     "output_type": "stream",
     "text": [
      "Compound(71358)\n",
      "[Spectrum(360), Spectrum(361), Spectrum(3172)]\n"
     ]
    }
   ],
   "source": [
    "for result in cs.search('glucose'):\n",
    "    if result.spectra:\n",
    "        print(result)\n",
    "        print(result.spectra)"
   ]
  },
  {
   "cell_type": "markdown",
   "metadata": {
    "deletable": true,
    "editable": true,
    "run_control": {
     "frozen": false,
     "read_only": false
    }
   },
   "source": [
    "Alternatively, if you aren't interested in any of the other compound properties, you can get spectra directly by using either the compound ChemSpider ID or the Spectrum ID:"
   ]
  },
  {
   "cell_type": "code",
   "execution_count": 6,
   "metadata": {
    "collapsed": false,
    "deletable": true,
    "editable": true,
    "run_control": {
     "frozen": false,
     "read_only": false
    }
   },
   "outputs": [
    {
     "data": {
      "text/plain": [
       "Spectrum(362)"
      ]
     },
     "execution_count": 6,
     "metadata": {},
     "output_type": "execute_result"
    }
   ],
   "source": [
    "cs.get_spectrum(362)"
   ]
  },
  {
   "cell_type": "code",
   "execution_count": 7,
   "metadata": {
    "collapsed": false,
    "deletable": true,
    "editable": true,
    "run_control": {
     "frozen": false,
     "read_only": false
    }
   },
   "outputs": [
    {
     "data": {
      "text/plain": [
       "[Spectrum(360), Spectrum(361), Spectrum(3172)]"
      ]
     },
     "execution_count": 7,
     "metadata": {},
     "output_type": "execute_result"
    }
   ],
   "source": [
    "cs.get_compound_spectra(71358)"
   ]
  },
  {
   "cell_type": "markdown",
   "metadata": {
    "deletable": true,
    "editable": true,
    "run_control": {
     "frozen": false,
     "read_only": false
    }
   },
   "source": [
    "## Spectrum metadata\n",
    "\n",
    "Each Spectrum object has a number of properties:"
   ]
  },
  {
   "cell_type": "code",
   "execution_count": 8,
   "metadata": {
    "collapsed": false,
    "deletable": true,
    "editable": true,
    "run_control": {
     "frozen": false,
     "read_only": false
    }
   },
   "outputs": [
    {
     "name": "stdout",
     "output_type": "stream",
     "text": [
      "Spectrum ID: 3558\n",
      "Compound ID: 2157\n",
      "Spectrum type: HNMR\n",
      "File name: Spectrum_315.jdx\n",
      "Comments: collected by David Bulger at Oral Roberts University on a JEOL 300 MHz NMR with methanol as the solvent\n",
      "Original URL: http://onschallenge.wikispaces.com/Exp072\n",
      "URL: https://www.chemspider.com/FilesHandler.ashx?type=blob&disp=1&id=3558\n"
     ]
    }
   ],
   "source": [
    "spectrum = cs.get_spectrum(3558)\n",
    "print('Spectrum ID: %s' % spectrum.spectrum_id)\n",
    "print('Compound ID: %s' % spectrum.csid)\n",
    "print('Spectrum type: %s' % spectrum.spectrum_type)\n",
    "print('File name: %s' % spectrum.file_name)\n",
    "print('Comments: %s' % spectrum.comments)\n",
    "print('Original URL: %s' % spectrum.original_url)\n",
    "print('URL: %s' % spectrum.url)"
   ]
  },
  {
   "cell_type": "markdown",
   "metadata": {
    "deletable": true,
    "editable": true,
    "run_control": {
     "frozen": false,
     "read_only": false
    }
   },
   "source": [
    "## Spectrum data\n",
    "\n",
    "The data file for each spectrum is also available using the `data` property:"
   ]
  },
  {
   "cell_type": "code",
   "execution_count": 9,
   "metadata": {
    "collapsed": false,
    "deletable": true,
    "editable": true,
    "run_control": {
     "frozen": false,
     "read_only": false
    }
   },
   "outputs": [
    {
     "name": "stdout",
     "output_type": "stream",
     "text": [
      "##TITLE=Caffeine\r\n",
      "##JCAMP-DX=4.24\r\n",
      "##DATA TYPE=INFRARED SPECTRUM\r\n",
      "##ORIGIN=Sadtler Research Labs Under US-EPA Contract\r\n",
      "##OWNER=NIST Standard Reference Data Program\r\n",
      "##CAS REGISTRY NO=58-08-2\r\n",
      "##MOLFORM=C 8 H 10 N 4 O 2\r\n",
      "##XUNITS=1/CM\r\n",
      "##YUNITS=ABSORBANCE\r\n",
      "##XFACTOR=1.0\r\n",
      "##YFACTOR=0.000149628\r\n",
      "##DELTAX=4.0\r\n",
      "##FIRSTX=450.0\r\n",
      "##LASTX=3966.0\r\n",
      "##FIRSTY=0.004489\r\n",
      "##MAXX=3966\r\n",
      "##MINX=450\r\n",
      "##MAXY=1.49628\r\n",
      "##MINY=0\r\n",
      "##NPOINTS=880\r\n",
      "##XYDATA=(X++(Y..Y))\r\n",
      "450.0 30 46 38 120 79 193 340 391 388 250\r\n",
      "490.0 145 11 40 45 17 45 22 81 7 50\r\n",
      "530.0 18 68 11 30 38 26 59 38 48 6\r\n",
      "570.0 41 14 30 21 41 39 50 116 118 194\r\n",
      "610.0 202 155 88 71 32 33 33 29 46 29\r\n",
      "650.0 35 21 33 10 37 40 17 29 27 41\r\n",
      "690.0 22 40 26 39 26 33 31 17 32 41\r\n",
      "730.0 91 137 209 249 296 304 406 323 280 341\r\n",
      "770.0 195 156 98 83 43 39 48 43 59 52\r\n",
      "810.0 82 68 112 146 194 248 244 163 116 88\r\n",
      "850.0 43 50 24 39 23 26 21 31 29 16\r\n",
      "890.0 34 19 34 14 38 29 41 54 70 91\r\n",
      "930.0 88 80 35 43 33 45 51 80 121 181\r\n",
      "970.0 296 370 411 354 264 147 88 79 113 180\r\n",
      "1010.0 298 500 693 828 838 720 504 307 191 131\r\n",
      "1050.0 121 111 131 112 118 103 98 82 82 84\r\n",
      "1090.0 76 76 67 73 51 66 60 63 66 72\r\n",
      "1130.0 82 81 106 95 100 86 92 76 79 97\r\n",
      "1170.0 111 144 171 232 277 334 351 362 338 324\r\n",
      "1210.0 345 355 393 440 598 847 1067 1105 984 691\r\n",
      "1250.0 438 331 276 269 250 276 330 414 455 450\r\n",
      "1290.0 405 294 209 145 160 146 191 249 347 446\r\n",
      "1330.0 515 540 501 490 515 639 744 806 775 658\r\n",
      "1370.0 553 491 484 469 502 493 509 503 541 618\r\n",
      "1410.0 754 855 872 791 703 632 623 628 661 701\r\n",
      "1450.0 908 1071 1289 1301 1341 1358 1419 1496 1374 1200\r\n",
      "1490.0 950 741 606 484 423 406 356 447 485 698\r\n",
      "1530.0 722 929 1101 1247 1443 1469 1326 1094 715 545\r\n",
      "1570.0 426 369 323 302 324 404 528 758 942 1099\r\n",
      "1610.0 1042 836 568 335 233 194 213 209 266 348\r\n",
      "1650.0 528 621 896 1002 1308 1864 3319 5240 7104 10000\r\n",
      "1690.0 7708 7086 4064 3234 2173 2605 3092 4394 5100 5090\r\n",
      "1730.0 4747 2880 1794 976 646 395 403 307 314 270\r\n",
      "1770.0 253 195 155 155 91 107 71 95 64 97\r\n",
      "1810.0 87 82 84 74 80 47 71 45 54 35\r\n",
      "1850.0 51 47 48 59 42 43 23 35 11 22\r\n",
      "1890.0 16 21 18 19 27 13 25 14 21 8\r\n",
      "1930.0 19 16 14 19 17 27 14 27 14 17\r\n",
      "1970.0 10 17 15 11 21 11 19 10 22 9\r\n",
      "2010.0 16 14 17 13 13 22 11 18 11 17\r\n",
      "2050.0 7 14 9 5 6 5 10 1 11 5\r\n",
      "2090.0 9 5 10 7 8 14 5 9 1 11\r\n",
      "2130.0 6 8 5 6 6 6 10 3 11 11\r\n",
      "2170.0 15 10 13 14 9 13 9 14 7 16\r\n",
      "2210.0 10 13 10 11 10 10 16 14 18 16\r\n",
      "2250.0 22 14 17 13 14 15 10 13 7 14\r\n",
      "2290.0 10 15 7 15 11 5 13 5 10 2\r\n",
      "2330.0 10 1 2 0 8 14 0 9 0 0\r\n",
      "2370.0 0 1 5 11 17 18 19 17 19 10\r\n",
      "2410.0 15 10 14 10 11 10 3 9 5 7\r\n",
      "2450.0 5 9 7 9 10 10 13 8 16 13\r\n",
      "2490.0 14 10 15 8 8 11 9 10 11 16\r\n",
      "2530.0 11 15 13 16 17 17 22 19 19 22\r\n",
      "2570.0 27 18 21 21 23 21 19 18 14 21\r\n",
      "2610.0 15 18 15 17 13 10 13 11 15 14\r\n",
      "2650.0 21 14 17 18 21 21 18 18 15 16\r\n",
      "2690.0 13 17 10 17 15 13 16 16 18 16\r\n",
      "2730.0 18 16 24 22 27 24 24 27 22 26\r\n",
      "2770.0 22 26 25 27 26 26 26 26 34 31\r\n",
      "2810.0 41 45 49 48 54 54 49 56 56 62\r\n",
      "2850.0 57 65 66 74 79 89 95 99 112 118\r\n",
      "2890.0 132 138 161 165 173 179 181 186 188 210\r\n",
      "2930.0 224 253 288 338 395 466 536 597 630 617\r\n",
      "2970.0 567 484 399 316 256 215 188 156 140 132\r\n",
      "3010.0 115 107 92 87 76 70 65 56 58 56\r\n",
      "3050.0 56 51 50 51 54 50 50 55 49 50\r\n",
      "3090.0 49 49 45 51 45 46 46 50 51 47\r\n",
      "3130.0 45 32 32 25 23 23 21 18 16 18\r\n",
      "3170.0 16 21 17 16 11 16 14 15 18 16\r\n",
      "3210.0 11 9 13 15 18 16 18 15 16 23\r\n",
      "3250.0 17 17 11 14 15 21 17 18 19 17\r\n",
      "3290.0 19 18 16 13 21 15 10 11 15 21\r\n",
      "3330.0 15 13 13 17 10 18 11 10 23 21\r\n",
      "3370.0 26 19 26 32 48 58 66 70 68 48\r\n",
      "3410.0 39 29 16 23 18 26 22 26 8 14\r\n",
      "3450.0 16 3 18 19 21 13 15 18 21 18\r\n",
      "3490.0 24 19 16 18 10 22 23 16 18 21\r\n",
      "3530.0 17 14 16 8 26 21 23 24 21 22\r\n",
      "3570.0 19 29 15 23 24 21 19 26 16 21\r\n",
      "3610.0 16 29 27 14 31 21 22 18 22 23\r\n",
      "3650.0 8 26 25 26 21 32 14 30 19 23\r\n",
      "3690.0 31 21 31 23 35 25 25 25 37 33\r\n",
      "3730.0 25 21 30 25 35 24 19 30 25 31\r\n",
      "3770.0 24 23 38 30 26 24 35 27 21 32\r\n",
      "3810.0 22 29 29 37 29 33 24 27 35 31\r\n",
      "3850.0 47 32 26 26 23 17 31 21 18 41\r\n",
      "3890.0 32 40 13 38 15 32 33 42 26 35\r\n",
      "3930.0 34 30 23 25 39 35 54 31 38 34\r\n",
      "##END=\r\n",
      "\n"
     ]
    }
   ],
   "source": [
    "spectra = cs.get_compound_spectra(2424)\n",
    "caffeine_ir = spectra[8]\n",
    "print(caffeine_ir.data)"
   ]
  },
  {
   "cell_type": "markdown",
   "metadata": {
    "deletable": true,
    "editable": true,
    "run_control": {
     "frozen": false,
     "read_only": false
    }
   },
   "source": [
    "We can do some quick-and-dirty parsing of the JCAMP-JDX file:"
   ]
  },
  {
   "cell_type": "code",
   "execution_count": 10,
   "metadata": {
    "collapsed": false,
    "deletable": true,
    "editable": true,
    "run_control": {
     "frozen": false,
     "read_only": false
    }
   },
   "outputs": [],
   "source": [
    "# See https://github.com/nzhagen/jcamp/ for more robust parsing\n",
    "\n",
    "import numpy as np\n",
    "\n",
    "xstart, xnum, y, meta = [], [], [], {}\n",
    "\n",
    "for line in caffeine_ir.data.split('\\n'):\n",
    "    if line.startswith('##'):\n",
    "        key, val = line.split('=', 1)\n",
    "        meta[key.lstrip('#')] = val.strip()\n",
    "    else:\n",
    "        numbers = [float(n) for n in line.strip().split()]\n",
    "        if numbers:\n",
    "            xstart.append(numbers[0])\n",
    "            xnum.append(len(numbers) - 1)\n",
    "            for number in numbers[1:]:\n",
    "                y.append(float(number))\n",
    "xstart.append(float(meta['LASTX']))\n",
    "x = np.array([])\n",
    "for n in range(len(xnum)):\n",
    "    x = np.append(x, np.linspace(xstart[n], xstart[n + 1], xnum[n]))  \n",
    "y = np.array(y)\n",
    "y = y * float(meta['YFACTOR'])"
   ]
  },
  {
   "cell_type": "markdown",
   "metadata": {
    "deletable": true,
    "editable": true,
    "run_control": {
     "frozen": false,
     "read_only": false
    }
   },
   "source": [
    "Then we can use matplotlib to plot it:"
   ]
  },
  {
   "cell_type": "code",
   "execution_count": 11,
   "metadata": {
    "collapsed": false,
    "deletable": true,
    "editable": true,
    "run_control": {
     "frozen": false,
     "read_only": false
    }
   },
   "outputs": [
    {
     "data": {
      "text/plain": [
       "[<matplotlib.lines.Line2D at 0x10331d9b0>]"
      ]
     },
     "execution_count": 11,
     "metadata": {},
     "output_type": "execute_result"
    },
    {
     "data": {
      "image/png": "[encoded data removed]",
      "text/plain": [
       "<matplotlib.figure.Figure at 0x104017a90>"
      ]
     },
     "metadata": {},
     "output_type": "display_data"
    }
   ],
   "source": [
    "%matplotlib inline\n",
    "import matplotlib.pyplot as plt\n",
    "\n",
    "plt.xlabel(meta['XUNITS'])\n",
    "plt.ylabel(meta['YUNITS'])\n",
    "plt.title(meta['TITLE'])\n",
    "plt.axis([max(x), min(x), min(y), max(y) + 0.1])\n",
    "plt.plot(x, y)"
   ]
  }
 ],
 "metadata": {
  "hide_input": false,
  "kernelspec": {
   "display_name": "Python 3",
   "language": "python",
   "name": "python3"
  },
  "language_info": {
   "codemirror_mode": {
    "name": "ipython",
    "version": 3
   },
   "file_extension": ".py",
   "mimetype": "text/x-python",
   "name": "python",
   "nbconvert_exporter": "python",
   "pygments_lexer": "ipython3",
   "version": "3.6.1"
  }
 },
 "nbformat": 4,
 "nbformat_minor": 0
}
